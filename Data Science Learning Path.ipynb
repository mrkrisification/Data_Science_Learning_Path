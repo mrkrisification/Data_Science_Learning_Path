{
 "cells": [
  {
   "cell_type": "markdown",
   "metadata": {},
   "source": [
    "**Christian Rezek**  \n",
    "christian.rezek@a1.group  \n",
    "+43 664 / 66 39034\n",
    "\n",
    "\n",
    "\n",
    "# My Data Science Learning Path  \n",
    "... so far\n",
    "  \n",
    "  \n",
    "  \n",
    "> **Note**  \n",
    "It's hard to describe the status of knowledge in the area of data-science, as I'm a self learner,  \n",
    "trying to get a (rough) overview first and simply understand / solve the task at hand...\n",
    "\n",
    "*I'll try anyway, to give an overview of courses attended and projects*"
   ]
  },
  {
   "cell_type": "markdown",
   "metadata": {},
   "source": [
    "## Courses attended\n",
    "\n",
    "### Udemy\n",
    "\n",
    "* Python für Data Science, Maschinelles Lernen & Visualization  \n",
    "  https://www.udemy.com/python-data-science-machine-learning/learn/v4/content\n",
    "    \n",
    "  \n",
    "* Zero to Deep Learning™ with Python and Keras (not completed, yet)  \n",
    "  https://www.udemy.com/zero-to-deep-learning/learn/v4/content\n",
    "    \n",
    "  \n",
    "* Statistics for Business Analytics and Data Science A-Z™  \n",
    "  https://www.udemy.com/data-statistics/learn/v4/content\n",
    "  \n",
    "### Österreichisches Controller Institut\n",
    "* Certified Business Data Scientist   \n",
    "  https://www.controller-institut.at/de/programme/lehrgaenge/details/certified-business-data-scientist/\n",
    "  \n",
    "  "
   ]
  },
  {
   "cell_type": "markdown",
   "metadata": {},
   "source": [
    "# Projects completed (and ongoing)\n",
    "\n",
    "* [netbenchaustria.com](https://netbenchaustria.herokuapp.com/)  \n",
    "  Comparing RTR-Netztest data across austrian mobile operators. Implemented in Python3 with dash & plot.ly  \n",
    "  *Private / Hobby-Project, hence Please be patient, when loading*\n",
    "  \n",
    "  \n",
    "* **Roaming Prediction**  \n",
    "  Predicting Roaming Wholesale quantities for A1 Group Opcos  \n",
    "  (Prototype developed by me, using fbprophet / arima)\n",
    "  \n",
    "  \n",
    "* **Device Prediction (A1)**    \n",
    "  Predicting the upcoming demand (6 weeks ahead) for Mobile Devices, leaving central storage (= * Sell-Through*)\n",
    "  (Part of A1 Finance Analytics Team)\n",
    "  "
   ]
  },
  {
   "cell_type": "markdown",
   "metadata": {},
   "source": [
    "## Trainings / Presentations held\n",
    "* Demystifying Big Data and Advanced Analytics (OneCO Day 2018)  \n",
    "  https://sps.a1.group/boxes/07886/OneControlling/A1Group_Sharing/OneControllingDay/SitePages/Home.aspx  \n",
    "  \n",
    "  [Direct Link to webex: Password: Controlling1](https://a1spark.webex.com/a1spark/lsr.php?RCID=3d9bffab676c3888db87bf27ef34f18b)\n",
    "\n",
    "\n"
   ]
  },
  {
   "cell_type": "markdown",
   "metadata": {},
   "source": [
    "# Other Sources   \n",
    "\n",
    "## Favorite Books"
   ]
  },
  {
   "cell_type": "markdown",
   "metadata": {},
   "source": [
    "* Hands-On Machine Learning with Scikit-Learn and TensorFlow: Concepts, Tools, and Techniques for Building Intelligent Systems (Aurélien Géron)  \n",
    "  [Amazon Link](https://www.amazon.de/Hands-Machine-Learning-Scikit-Learn-TensorFlow/dp/1491962291/ref=sr_1_1?__mk_de_DE=%C3%85M%C3%85%C5%BD%C3%95%C3%91&crid=FC21YR73RGYS&keywords=hands+on+machine+learning&qid=1556284663&s=gateway&sprefix=hands+on+machin%2Caps%2C174&sr=8-1)\n",
    "\n",
    "\n",
    "* Make Your Own Neural Network (Tariq Rashid)  \n",
    "  [Amazon Link](https://www.amazon.de/Make-Your-Own-Neural-Network/dp/1530826608/ref=sr_1_1?__mk_de_DE=%C3%85M%C3%85%C5%BD%C3%95%C3%91&crid=1DBIQX2O65XVE&keywords=make+your+own+neural+network&qid=1556284929&s=gateway&sprefix=Make+your+own+n%2Caps%2C167&sr=8-1)\n",
    "\n",
    "\n",
    "    "
   ]
  },
  {
   "cell_type": "markdown",
   "metadata": {},
   "source": [
    "## online-sources\n",
    "stackoverflow.com, github.com, analyticsvidhya.com and a *lot* of youtube.com (e.g. pythonprogramming.net)"
   ]
  },
  {
   "cell_type": "code",
   "execution_count": null,
   "metadata": {},
   "outputs": [],
   "source": []
  },
  {
   "cell_type": "code",
   "execution_count": null,
   "metadata": {},
   "outputs": [],
   "source": []
  },
  {
   "cell_type": "code",
   "execution_count": null,
   "metadata": {},
   "outputs": [],
   "source": []
  },
  {
   "cell_type": "code",
   "execution_count": null,
   "metadata": {},
   "outputs": [],
   "source": []
  }
 ],
 "metadata": {
  "kernelspec": {
   "display_name": "Python [conda env:py36] *",
   "language": "python",
   "name": "conda-env-py36-py"
  },
  "language_info": {
   "codemirror_mode": {
    "name": "ipython",
    "version": 3
   },
   "file_extension": ".py",
   "mimetype": "text/x-python",
   "name": "python",
   "nbconvert_exporter": "python",
   "pygments_lexer": "ipython3",
   "version": "3.6.7"
  }
 },
 "nbformat": 4,
 "nbformat_minor": 2
}
